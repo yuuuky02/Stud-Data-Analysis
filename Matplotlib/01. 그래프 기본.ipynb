{
 "cells": [
  {
   "cell_type": "markdown",
   "id": "e2d69fb4",
   "metadata": {},
   "source": [
    "# Matplotlib\n",
    "\n",
    "다양한 형태의 그래프를 통해서 데이터 시각화를 할 수 있는 라이브러리"
   ]
  },
  {
   "cell_type": "code",
   "execution_count": 1,
   "id": "f64cf4bd",
   "metadata": {},
   "outputs": [],
   "source": [
    "import matplotlib.pyplot as pit"
   ]
  },
  {
   "cell_type": "markdown",
   "id": "0b2e7a0e",
   "metadata": {},
   "source": [
    "## 1. 그래프 기본"
   ]
  },
  {
   "cell_type": "code",
   "execution_count": null,
   "id": "42b719f7",
   "metadata": {},
   "outputs": [],
   "source": []
  }
 ],
 "metadata": {
  "kernelspec": {
   "display_name": "Python 3 (ipykernel)",
   "language": "python",
   "name": "python3"
  },
  "language_info": {
   "codemirror_mode": {
    "name": "ipython",
    "version": 3
   },
   "file_extension": ".py",
   "mimetype": "text/x-python",
   "name": "python",
   "nbconvert_exporter": "python",
   "pygments_lexer": "ipython3",
   "version": "3.9.13"
  }
 },
 "nbformat": 4,
 "nbformat_minor": 5
}
